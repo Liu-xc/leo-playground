{
 "cells": [
  {
   "cell_type": "code",
   "execution_count": 1,
   "id": "51ccb612-9b48-49e7-9962-051cf16e9d0c",
   "metadata": {},
   "outputs": [],
   "source": [
    "from selenium import webdriver\n",
    "from selenium.webdriver.chrome.service import Service as ChromeService\n",
    "options = webdriver.ChromeOptions()\n",
    "options.add_argument('--no-sandbox')\n",
    "service = ChromeService(executable_path='/Applications/Google Chrome.app/Contents/MacOS/Google Chrome')\n",
    "driver = webdriver.Chrome(service=service, options=options)"
   ]
  },
  {
   "cell_type": "code",
   "execution_count": 2,
   "id": "eba14cc5-4fe1-44c1-9ed0-b7813eca7cbf",
   "metadata": {},
   "outputs": [],
   "source": [
    "driver.get(\"https://h5.ele.me/2021001185671035/pages/ele-takeout-index/ele-takeout-index?storeTransmit=%7B%22trace_id%22%3A%222166c8e217166434009083878e4a30%22%2C%22anchorScene%22%3A%22BLANK%22%2C%22subsubchannel%22%3A%22mobile.default.alsc-rec-data-center%3ATpp-26736%22%7D&menu_extra_info=%7B%22is_anchor%22%3Afalse%2C%22name_desc%22%3A%22%E5%88%9A%E5%88%9A%E7%9C%8B%E8%BF%87%22%2C%22skip_select_sku%22%3Atrue%2C%22group_name%22%3A%22%E5%88%9A%E5%88%9A%E7%9C%8B%E8%BF%87%22%2C%22sku_ids%22%3A%5B%22100001230073362935%22%5D%2C%22popularity%22%3A0%2C%22type%22%3A%22CUSTOM%22%7D&shopId=E11335861157902880460&cartTransmit=%7B%22trace_id%22%3A%222166c8e217166434009083878e4a30%22%2C%22type%22%3A1%2C%22scheme_type%22%3A%22ITEM_STICKY_CATEGORY_SCHEME%22%2C%22subsubchannel%22%3A%22mobile.default.alsc-rec-data-center%3ATpp-26736%22%7D&geohash=wx4exuw5kvk9&brandId=545911&o2o_extra_param=%7B%22rank_id%22%3A%22e9f86c3257ee498c8ee218e2ea0accc6%22%7D&spm=a2f6g.13154471.searchFoodList.1&keyword=%E5%BF%85%E8%83%9C%E5%AE%A2&rank_id=e9f86c3257ee498c8ee218e2ea0accc6&refer=%E7%83%AD%E6%90%9C%E6%A6%9C&content_track=%257B%2522traceId%2522%253A%25222166c8e217166434009083878e4a30%2522%252C%2522rank_id%2522%253A%2522e9f86c3257ee498c8ee218e2ea0accc6%2522%252C%2522openingShopAmount%2522%253A1%252C%2522lbehavor_biztype%2522%253A%2522waimai%2522%252C%2522statusWeight%2522%253A5%252C%2522aoi_id%2522%253A21297865%252C%2522restingShopAmount%2522%253A0%252C%2522tpp_buckets%2522%253A%252226551%25230%2523235060%252332_26551%252325477%2523477983%252315_26551%252314808%2523468845%25233_26551%252319181%2523464453%25236_26551%252320569%2523466370%252319_26551%252326010%2523479672%252310_18537%25230%2523389302%252317_18537%252324621%2523475026%25232_26736%25230%2523357644%25237%2522%252C%2522scene%2522%253A%2522SEARCH_BROWSER%2522%257D&page_type=0&from=mobile.default&fromVersion=11.10.0&guideTrack=%25257B%252522search_ab_bucket%252522%25253A%252522a%252522%25252C%252522search_tpp_buckets%252522%25253A%25252222816%2525230%252523268764%25252332_18536%2525230%252523388263%25252317_18536%25252311865%252523444408%25252316_18536%25252311759%252523444207%252523454_18536%25252310700%252523439646%2525231_18536%25252324773%252523475749%25252320_18536%25252313832%252523453013%2525237%252522%25252C%252522search_app_id%252522%25253A22816%25252C%252522alscJointAbTag%252522%25253A%252522unknow%252522%25252C%252522search_trace_id%252522%25253A%252522213f4f5f17166433845503961e5c52%252522%25252C%252522personalizedDisable%252522%25253Afalse%25252C%252522elemAbTest%252522%25253A%25257B%252522sugBackwardSkipMiddlePageCache%252522%25253Afalse%25257D%25252C%252522search_rank_id%252522%25253A%252522f76c07ee29244ca5a29f4ae926aae1a4%252522%25252C%252522pageAlgoExtend%252522%25253A%252522%2525257B%2525257D%252522%25257D&longitude=116.364651&latitude=40.01554&spm-pre=a2f6g.12507204.search.1\")"
   ]
  },
  {
   "cell_type": "code",
   "execution_count": 3,
   "id": "fd14973a-022e-46f2-a846-31d40c306b16",
   "metadata": {},
   "outputs": [],
   "source": [
    "title = driver.title"
   ]
  },
  {
   "cell_type": "code",
   "execution_count": 4,
   "id": "52225083-d8b1-4408-bcee-93666bbf4f18",
   "metadata": {},
   "outputs": [
    {
     "data": {
      "text/plain": [
       "<selenium.webdriver.chrome.webdriver.WebDriver (session=\"8f78b61c4b535797b170a30b8e4587c1\")>"
      ]
     },
     "execution_count": 4,
     "metadata": {},
     "output_type": "execute_result"
    }
   ],
   "source": [
    "driver"
   ]
  },
  {
   "cell_type": "code",
   "execution_count": 5,
   "id": "533f6f17-2a2f-4ba4-be55-7a0f0df3119f",
   "metadata": {},
   "outputs": [],
   "source": [
    "driver.implicitly_wait(5)"
   ]
  },
  {
   "cell_type": "code",
   "execution_count": 6,
   "id": "7bbad79b-90b0-44cc-8412-cb3ee79171a3",
   "metadata": {},
   "outputs": [
    {
     "ename": "NoSuchElementException",
     "evalue": "Message: no such element: Unable to locate element: {\"method\":\"css selector\",\"selector\":\"tiga-view.tab__comments > tiga-view.shop-comments__wrap > tiga-view\"}\n  (Session info: chrome=125.0.6422.113); For documentation on this error, please visit: https://www.selenium.dev/documentation/webdriver/troubleshooting/errors#no-such-element-exception\nStacktrace:\n0   chromedriver                        0x00000001009e2510 chromedriver + 4302096\n1   chromedriver                        0x00000001009dae58 chromedriver + 4271704\n2   chromedriver                        0x000000010060c19c chromedriver + 278940\n3   chromedriver                        0x000000010064e2c4 chromedriver + 549572\n4   chromedriver                        0x0000000100686c5c chromedriver + 781404\n5   chromedriver                        0x0000000100643004 chromedriver + 503812\n6   chromedriver                        0x00000001006439ec chromedriver + 506348\n7   chromedriver                        0x00000001009aa558 chromedriver + 4072792\n8   chromedriver                        0x00000001009af004 chromedriver + 4091908\n9   chromedriver                        0x000000010099179c chromedriver + 3970972\n10  chromedriver                        0x00000001009af8ec chromedriver + 4094188\n11  chromedriver                        0x000000010098471c chromedriver + 3917596\n12  chromedriver                        0x00000001009ccb50 chromedriver + 4213584\n13  chromedriver                        0x00000001009ccccc chromedriver + 4213964\n14  chromedriver                        0x00000001009daa50 chromedriver + 4270672\n15  libsystem_pthread.dylib             0x00000001b0af606c _pthread_start + 148\n16  libsystem_pthread.dylib             0x00000001b0af0e2c thread_start + 8\n",
     "output_type": "error",
     "traceback": [
      "\u001b[0;31m---------------------------------------------------------------------------\u001b[0m",
      "\u001b[0;31mNoSuchElementException\u001b[0m                    Traceback (most recent call last)",
      "Cell \u001b[0;32mIn[6], line 3\u001b[0m\n\u001b[1;32m      1\u001b[0m \u001b[38;5;28;01mfrom\u001b[39;00m \u001b[38;5;21;01mselenium\u001b[39;00m\u001b[38;5;21;01m.\u001b[39;00m\u001b[38;5;21;01mwebdriver\u001b[39;00m\u001b[38;5;21;01m.\u001b[39;00m\u001b[38;5;21;01mcommon\u001b[39;00m\u001b[38;5;21;01m.\u001b[39;00m\u001b[38;5;21;01mby\u001b[39;00m \u001b[38;5;28;01mimport\u001b[39;00m By\n\u001b[0;32m----> 3\u001b[0m container_el \u001b[38;5;241m=\u001b[39m \u001b[43mdriver\u001b[49m\u001b[38;5;241;43m.\u001b[39;49m\u001b[43mfind_element\u001b[49m\u001b[43m(\u001b[49m\u001b[43mby\u001b[49m\u001b[38;5;241;43m=\u001b[39;49m\u001b[43mBy\u001b[49m\u001b[38;5;241;43m.\u001b[39;49m\u001b[43mCSS_SELECTOR\u001b[49m\u001b[43m,\u001b[49m\u001b[43m \u001b[49m\u001b[43mvalue\u001b[49m\u001b[38;5;241;43m=\u001b[39;49m\u001b[38;5;124;43m\"\u001b[39;49m\u001b[38;5;124;43mtiga-view.tab__comments > tiga-view.shop-comments__wrap > tiga-view\u001b[39;49m\u001b[38;5;124;43m\"\u001b[39;49m\u001b[43m)\u001b[49m\n",
      "File \u001b[0;32m~/Library/Python/3.9/lib/python/site-packages/selenium/webdriver/remote/webdriver.py:741\u001b[0m, in \u001b[0;36mWebDriver.find_element\u001b[0;34m(self, by, value)\u001b[0m\n\u001b[1;32m    738\u001b[0m     by \u001b[38;5;241m=\u001b[39m By\u001b[38;5;241m.\u001b[39mCSS_SELECTOR\n\u001b[1;32m    739\u001b[0m     value \u001b[38;5;241m=\u001b[39m \u001b[38;5;124mf\u001b[39m\u001b[38;5;124m'\u001b[39m\u001b[38;5;124m[name=\u001b[39m\u001b[38;5;124m\"\u001b[39m\u001b[38;5;132;01m{\u001b[39;00mvalue\u001b[38;5;132;01m}\u001b[39;00m\u001b[38;5;124m\"\u001b[39m\u001b[38;5;124m]\u001b[39m\u001b[38;5;124m'\u001b[39m\n\u001b[0;32m--> 741\u001b[0m \u001b[38;5;28;01mreturn\u001b[39;00m \u001b[38;5;28;43mself\u001b[39;49m\u001b[38;5;241;43m.\u001b[39;49m\u001b[43mexecute\u001b[49m\u001b[43m(\u001b[49m\u001b[43mCommand\u001b[49m\u001b[38;5;241;43m.\u001b[39;49m\u001b[43mFIND_ELEMENT\u001b[49m\u001b[43m,\u001b[49m\u001b[43m \u001b[49m\u001b[43m{\u001b[49m\u001b[38;5;124;43m\"\u001b[39;49m\u001b[38;5;124;43musing\u001b[39;49m\u001b[38;5;124;43m\"\u001b[39;49m\u001b[43m:\u001b[49m\u001b[43m \u001b[49m\u001b[43mby\u001b[49m\u001b[43m,\u001b[49m\u001b[43m \u001b[49m\u001b[38;5;124;43m\"\u001b[39;49m\u001b[38;5;124;43mvalue\u001b[39;49m\u001b[38;5;124;43m\"\u001b[39;49m\u001b[43m:\u001b[49m\u001b[43m \u001b[49m\u001b[43mvalue\u001b[49m\u001b[43m}\u001b[49m\u001b[43m)\u001b[49m[\u001b[38;5;124m\"\u001b[39m\u001b[38;5;124mvalue\u001b[39m\u001b[38;5;124m\"\u001b[39m]\n",
      "File \u001b[0;32m~/Library/Python/3.9/lib/python/site-packages/selenium/webdriver/remote/webdriver.py:347\u001b[0m, in \u001b[0;36mWebDriver.execute\u001b[0;34m(self, driver_command, params)\u001b[0m\n\u001b[1;32m    345\u001b[0m response \u001b[38;5;241m=\u001b[39m \u001b[38;5;28mself\u001b[39m\u001b[38;5;241m.\u001b[39mcommand_executor\u001b[38;5;241m.\u001b[39mexecute(driver_command, params)\n\u001b[1;32m    346\u001b[0m \u001b[38;5;28;01mif\u001b[39;00m response:\n\u001b[0;32m--> 347\u001b[0m     \u001b[38;5;28;43mself\u001b[39;49m\u001b[38;5;241;43m.\u001b[39;49m\u001b[43merror_handler\u001b[49m\u001b[38;5;241;43m.\u001b[39;49m\u001b[43mcheck_response\u001b[49m\u001b[43m(\u001b[49m\u001b[43mresponse\u001b[49m\u001b[43m)\u001b[49m\n\u001b[1;32m    348\u001b[0m     response[\u001b[38;5;124m\"\u001b[39m\u001b[38;5;124mvalue\u001b[39m\u001b[38;5;124m\"\u001b[39m] \u001b[38;5;241m=\u001b[39m \u001b[38;5;28mself\u001b[39m\u001b[38;5;241m.\u001b[39m_unwrap_value(response\u001b[38;5;241m.\u001b[39mget(\u001b[38;5;124m\"\u001b[39m\u001b[38;5;124mvalue\u001b[39m\u001b[38;5;124m\"\u001b[39m, \u001b[38;5;28;01mNone\u001b[39;00m))\n\u001b[1;32m    349\u001b[0m     \u001b[38;5;28;01mreturn\u001b[39;00m response\n",
      "File \u001b[0;32m~/Library/Python/3.9/lib/python/site-packages/selenium/webdriver/remote/errorhandler.py:229\u001b[0m, in \u001b[0;36mErrorHandler.check_response\u001b[0;34m(self, response)\u001b[0m\n\u001b[1;32m    227\u001b[0m         alert_text \u001b[38;5;241m=\u001b[39m value[\u001b[38;5;124m\"\u001b[39m\u001b[38;5;124malert\u001b[39m\u001b[38;5;124m\"\u001b[39m]\u001b[38;5;241m.\u001b[39mget(\u001b[38;5;124m\"\u001b[39m\u001b[38;5;124mtext\u001b[39m\u001b[38;5;124m\"\u001b[39m)\n\u001b[1;32m    228\u001b[0m     \u001b[38;5;28;01mraise\u001b[39;00m exception_class(message, screen, stacktrace, alert_text)  \u001b[38;5;66;03m# type: ignore[call-arg]  # mypy is not smart enough here\u001b[39;00m\n\u001b[0;32m--> 229\u001b[0m \u001b[38;5;28;01mraise\u001b[39;00m exception_class(message, screen, stacktrace)\n",
      "\u001b[0;31mNoSuchElementException\u001b[0m: Message: no such element: Unable to locate element: {\"method\":\"css selector\",\"selector\":\"tiga-view.tab__comments > tiga-view.shop-comments__wrap > tiga-view\"}\n  (Session info: chrome=125.0.6422.113); For documentation on this error, please visit: https://www.selenium.dev/documentation/webdriver/troubleshooting/errors#no-such-element-exception\nStacktrace:\n0   chromedriver                        0x00000001009e2510 chromedriver + 4302096\n1   chromedriver                        0x00000001009dae58 chromedriver + 4271704\n2   chromedriver                        0x000000010060c19c chromedriver + 278940\n3   chromedriver                        0x000000010064e2c4 chromedriver + 549572\n4   chromedriver                        0x0000000100686c5c chromedriver + 781404\n5   chromedriver                        0x0000000100643004 chromedriver + 503812\n6   chromedriver                        0x00000001006439ec chromedriver + 506348\n7   chromedriver                        0x00000001009aa558 chromedriver + 4072792\n8   chromedriver                        0x00000001009af004 chromedriver + 4091908\n9   chromedriver                        0x000000010099179c chromedriver + 3970972\n10  chromedriver                        0x00000001009af8ec chromedriver + 4094188\n11  chromedriver                        0x000000010098471c chromedriver + 3917596\n12  chromedriver                        0x00000001009ccb50 chromedriver + 4213584\n13  chromedriver                        0x00000001009ccccc chromedriver + 4213964\n14  chromedriver                        0x00000001009daa50 chromedriver + 4270672\n15  libsystem_pthread.dylib             0x00000001b0af606c _pthread_start + 148\n16  libsystem_pthread.dylib             0x00000001b0af0e2c thread_start + 8\n"
     ]
    }
   ],
   "source": [
    "from selenium.webdriver.common.by import By\n",
    "\n",
    "container_el = driver.find_element(by=By.CSS_SELECTOR, value=\"tiga-view.tab__comments > tiga-view.shop-comments__wrap > tiga-view\")"
   ]
  },
  {
   "cell_type": "code",
   "execution_count": null,
   "id": "3f125d2e-75c0-46c0-a533-09f5de06f859",
   "metadata": {},
   "outputs": [],
   "source": [
    "shop_comment_list_els = container_el.find_elements(by=By.CSS_SELECTOR, value=\".shop__comment-cell-container\")"
   ]
  },
  {
   "cell_type": "code",
   "execution_count": null,
   "id": "ca34e601-18e1-450b-b271-0fc282f6c17d",
   "metadata": {},
   "outputs": [],
   "source": [
    "def get_comments(els):\n",
    "    comments = []\n",
    "    for commentEl in els:\n",
    "        text = commentEl.text()\n",
    "        comments.push(text)"
   ]
  },
  {
   "cell_type": "code",
   "execution_count": null,
   "id": "6821fde7-7f8d-4e11-9766-742317ac12c2",
   "metadata": {},
   "outputs": [],
   "source": [
    "shop_comments = get_comments(shop_comment_list_els)\n",
    "shop_comments"
   ]
  }
 ],
 "metadata": {
  "kernelspec": {
   "display_name": "Python 3 (ipykernel)",
   "language": "python",
   "name": "python3"
  },
  "language_info": {
   "codemirror_mode": {
    "name": "ipython",
    "version": 3
   },
   "file_extension": ".py",
   "mimetype": "text/x-python",
   "name": "python",
   "nbconvert_exporter": "python",
   "pygments_lexer": "ipython3",
   "version": "3.9.6"
  }
 },
 "nbformat": 4,
 "nbformat_minor": 5
}
